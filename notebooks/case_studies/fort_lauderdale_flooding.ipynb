{
 "cells": [
  {
   "cell_type": "markdown",
   "id": "da71ac11",
   "metadata": {},
   "source": [
    "# Fort Lauderdale flooding\n",
    "\n",
    "This notebooks assess all GPM overpasses from the convective systems that produced flooding in Fort Lauderdale on 2023/04/12."
   ]
  },
  {
   "cell_type": "code",
   "execution_count": 1,
   "id": "8e3899bb",
   "metadata": {},
   "outputs": [],
   "source": [
    "%load_ext autoreload\n",
    "%autoreload 2\n",
    "import numpy as np\n",
    "import matplotlib.pyplot as plt\n",
    "import xarray as xr"
   ]
  },
  {
   "cell_type": "code",
   "execution_count": 2,
   "id": "dd1f11bc",
   "metadata": {},
   "outputs": [],
   "source": [
    "from datetime import datetime\n",
    "from gprof_nn.plotting import create_equidistant_area\n",
    "\n",
    "start_time = datetime(2023, 4, 12, 12)\n",
    "end_time = datetime(2023, 4, 13, 12)\n",
    "lon_ftl = -80.15\n",
    "lat_ftl = 26.13\n",
    "area = create_equidistant_area(lon_ftl, lat_ftl, 0.75e6, 2e3)"
   ]
  },
  {
   "cell_type": "code",
   "execution_count": 5,
   "id": "827f8098",
   "metadata": {},
   "outputs": [],
   "source": [
    "import pyvista as pv\n",
    "pv.start_xvfb()"
   ]
  },
  {
   "cell_type": "markdown",
   "id": "4c72dad2",
   "metadata": {},
   "source": [
    "## Find GPROF overpasses\n",
    "\n",
    "The code below searches through all GPROF result files and resamples them to the study area."
   ]
  },
  {
   "cell_type": "code",
   "execution_count": 3,
   "id": "7120946c",
   "metadata": {},
   "outputs": [],
   "source": [
    "def resample_results(retrieval_data):\n",
    "    lons = retrieval_data.longitude.data\n",
    "    lats = retrieval_data.latitude.data\n",
    "    swath = SwathDefinition(lats=lats, lons=lons)\n",
    "    sp = retrieval_data.surface_precip.data\n",
    "    sp[sp < 0] = np.nan\n",
    "    sp[:, 0] = np.nan\n",
    "    sp[:, -1] = np.nan\n",
    "    sp_r = resample_nearest(\n",
    "        swath,\n",
    "        sp,\n",
    "        area,\n",
    "        radius_of_influence=50e3,\n",
    "        fill_value=np.nan\n",
    "    )\n",
    "\n",
    "    if np.all(np.isnan(sp_r)):\n",
    "        return None\n",
    "\n",
    "    lat_mean = np.nanmean(lats, -1)\n",
    "    lon_mean = np.nanmean(lons, -1)\n",
    "    scan_ind = np.argmin(np.sqrt((-80 - lon_mean) ** 2 + (25 - lat_mean) ** 2))\n",
    "    time = retrieval_data.scan_time.data[scan_ind]\n",
    "\n",
    "    return xr.Dataset({\n",
    "        \"time\": ((\"time\",), [time]),\n",
    "        \"surface_precip\": ((\"time\", \"y\", \"x\"), sp_r[None])\n",
    "    })"
   ]
  },
  {
   "cell_type": "code",
   "execution_count": 4,
   "id": "d1f37090",
   "metadata": {
    "scrolled": true
   },
   "outputs": [
    {
     "name": "stderr",
     "output_type": "stream",
     "text": [
      "/home/simon/.local/lib/python3.8/site-packages/paramiko/transport.py:219: CryptographyDeprecationWarning: Blowfish has been deprecated\n",
      "  \"class\": algorithms.Blowfish,\n"
     ]
    }
   ],
   "source": [
    "from pathlib import Path\n",
    "from pansat.products import NetcdfProduct\n",
    "from pansat.catalog import find_files\n",
    "from shapely.geometry import Point\n",
    "from shapely.validation import make_valid\n",
    "from pyresample import SwathDefinition\n",
    "from pyresample.kd_tree import resample_nearest\n",
    "\n",
    "results_gprof_nn_1d = {}\n",
    "ftld = Point(lon_ftl, lat_ftl)\n",
    "\n",
    "data_path = Path(\"/gdata1/simon/gprof_nn/case_studies/fort_lauderdale/\")\n",
    "satellites = [\n",
    "    \"noaa19\",\n",
    "    \"metopb\",\n",
    "    \"metopc\",\n",
    "    \"npp\",\n",
    "    \"noaa20\",\n",
    "    \"gcomw1\",\n",
    "    \"f16\",\n",
    "    \"f17\",\n",
    "    \"f18\",\n",
    "    \"gmi\",\n",
    "]\n",
    "for sat in satellites:\n",
    "    prod = NetcdfProduct({\n",
    "        \"time\": \"scan_time\"\n",
    "    })\n",
    "    files = find_files(\n",
    "        prod,\n",
    "        data_path / sat / \"gprof_nn_1d\"\n",
    "    )\n",
    "    overpasses = []\n",
    "    for result_file in files:\n",
    "        poly = make_valid(prod.get_spatial_coverage(result_file))\n",
    "        if poly.contains(ftld):\n",
    "            retrieval_data = xr.load_dataset(result_file.local_path)\n",
    "            overpass = resample_results(retrieval_data)\n",
    "            if overpass is None:\n",
    "                continue\n",
    "            overpasses.append(overpass)\n",
    "    if len(overpasses) > 0:\n",
    "        results_gprof_nn_1d[sat] = xr.concat(overpasses, \"time\")"
   ]
  },
  {
   "cell_type": "code",
   "execution_count": 5,
   "id": "e3ee6f6f",
   "metadata": {},
   "outputs": [],
   "source": [
    "from pansat.products import NetcdfProduct\n",
    "from pansat.catalog import find_files\n",
    "from shapely.geometry import Point\n",
    "from shapely.validation import make_valid\n",
    "from pyresample import SwathDefinition\n",
    "from pyresample.kd_tree import resample_nearest\n",
    "\n",
    "results_gprof_nn_3d = {}\n",
    "\n",
    "data_path = Path(\"/gdata1/simon/gprof_nn/case_studies/fort_lauderdale/\")\n",
    "for sat in satellites:\n",
    "    prod = NetcdfProduct({\n",
    "        \"time\": \"scan_time\"\n",
    "    })\n",
    "    files = find_files(\n",
    "        prod,\n",
    "        data_path / sat / \"gprof_nn_3d\"\n",
    "    )\n",
    "    overpasses = []\n",
    "    for result_file in files:\n",
    "        poly = make_valid(prod.get_spatial_coverage(result_file))\n",
    "        if poly.contains(ftld):\n",
    "            retrieval_data = xr.load_dataset(result_file.local_path)\n",
    "            overpass = resample_results(retrieval_data)\n",
    "            if overpass is None:\n",
    "                continue\n",
    "            overpasses.append(overpass)\n",
    "    if len(overpasses) > 0:\n",
    "        results_gprof_nn_3d[sat] = xr.concat(overpasses, \"time\")"
   ]
  },
  {
   "cell_type": "code",
   "execution_count": 6,
   "id": "8756b23a",
   "metadata": {},
   "outputs": [],
   "source": [
    "from pansat.products.satellite.gpm import l2a_gprof\n",
    "from pansat.catalog import find_files\n",
    "from shapely.geometry import Point\n",
    "from shapely.validation import make_valid\n",
    "from pyresample import SwathDefinition\n",
    "from pyresample.kd_tree import resample_nearest\n",
    "\n",
    "results_gprof = {}\n",
    "\n",
    "data_path = Path(\"/pdata4/archive/GPM/\")\n",
    "paths = {\n",
    "    \"noaa19\": \"2A_NOAA19_V7\",\n",
    "    \"noaa20\": \"2A_NOAA20_V7\",\n",
    "    \"npp\": \"2A_ATMS_V7\",\n",
    "    \"gcomw1\": \"2A_AMSR2_V7\",\n",
    "    \"metopb\": \"2A_METOPB_V7\",\n",
    "    \"metopc\": \"2A_METOPC_V7\",\n",
    "    \"f16\": \"2A_F16_V7\",\n",
    "    \"f17\": \"2A_F17_V7\",\n",
    "    \"f18\": \"2A_F18_V7\",\n",
    "    \"gmi\": \"2A_GMI_V7\",\n",
    "    \n",
    "}\n",
    "for sat in satellites:\n",
    "    files = find_files(\n",
    "        l2a_gprof,\n",
    "        data_path / paths[sat] / \"2304\"\n",
    "    )\n",
    "    overpasses = []\n",
    "    for result_file in files:\n",
    "        poly = make_valid(l2a_gprof.get_spatial_coverage(result_file))\n",
    "        if poly.contains(ftld):\n",
    "            retrieval_data = l2a_gprof.open(result_file.local_path)\n",
    "            overpass = resample_results(retrieval_data)\n",
    "            if overpass is None:\n",
    "                continue\n",
    "            overpasses.append(overpass)\n",
    "    if len(overpasses) > 0:\n",
    "        results_gprof[sat] = xr.concat(overpasses, \"time\")"
   ]
  },
  {
   "cell_type": "markdown",
   "id": "cc348804",
   "metadata": {},
   "source": [
    "Print number of collocations found for all satellites to ensure that the same collocations are found for all retrievals."
   ]
  },
  {
   "cell_type": "code",
   "execution_count": 7,
   "id": "f8206b97",
   "metadata": {},
   "outputs": [
    {
     "name": "stdout",
     "output_type": "stream",
     "text": [
      "4 4 4\n",
      "4 4 3\n",
      "4 4 4\n",
      "3 4 3\n",
      "4 4 4\n",
      "3 3 3\n",
      "2 2 2\n",
      "4 4 4\n",
      "3 3 3\n"
     ]
    }
   ],
   "source": [
    "for sat in satellites:\n",
    "    if sat in results_gprof_nn_1d:\n",
    "        print(results_gprof_nn_1d[sat].time.size, results_gprof_nn_3d[sat].time.size, results_gprof[sat].time.size)"
   ]
  },
  {
   "cell_type": "markdown",
   "id": "6e223fdb",
   "metadata": {},
   "source": [
    "# MRMS\n",
    "\n",
    "MRMS files are downloaded if not found localle."
   ]
  },
  {
   "cell_type": "code",
   "execution_count": null,
   "id": "b4c0e7fa",
   "metadata": {},
   "outputs": [],
   "source": [
    "from pathlib import Path\n",
    "from pansat.products.ground_based.mrms import mrms_precip_rate\n",
    "\n",
    "mrms_files = sorted(list(Path(\"/gdata1/simon/gprof_nn/case_studies/fort_lauderdale/MRMS\").glob(\"*grib2\")))\n",
    "if len(mrms_files) < 1:\n",
    "    mrms_files = mrms_precip_rate.download(start_time, end_time)\n",
    "    "
   ]
  },
  {
   "cell_type": "markdown",
   "id": "108811eb",
   "metadata": {},
   "source": [
    "Load MRMS files. This is quite slow so skip every 5th file to achieve 10 min resolution."
   ]
  },
  {
   "cell_type": "code",
   "execution_count": null,
   "id": "a64bf74a",
   "metadata": {},
   "outputs": [],
   "source": [
    "mrms_data = []\n",
    "for mrms_file in mrms_files[::5]:\n",
    "    mrms_data.append(xr.open_dataset(mrms_file)[{\"latitude\": slice(2500, -300), \"longitude\": slice(4500, 5500)}])"
   ]
  },
  {
   "cell_type": "markdown",
   "id": "ff5e5b4f",
   "metadata": {},
   "source": [
    "### Resample MRMS data to area"
   ]
  },
  {
   "cell_type": "code",
   "execution_count": null,
   "id": "efee030a",
   "metadata": {},
   "outputs": [],
   "source": [
    "lats_mrms = mrms_data[0].latitude.data\n",
    "lons_mrms = mrms_data[0].longitude.data - 360\n",
    "lons_mrms, lats_mrms = np.meshgrid(lons_mrms, lats_mrms)\n",
    "mrms_area = SwathDefinition(lats=lats_mrms, lons=lons_mrms)\n",
    "mrms_data_r = []\n",
    "for data in mrms_data:\n",
    "    sp_r = resample_nearest(\n",
    "        mrms_area,\n",
    "        data.unknown.data,\n",
    "        area,\n",
    "        radius_of_influence=5e3,\n",
    "        fill_value=np.nan\n",
    "    )\n",
    "    mrms_data_r.append(xr.Dataset({\n",
    "        \"time\": (\"time\", [data.time.data]),\n",
    "        \"surface_precip\": ((\"time\", \"y\", \"x\"), sp_r[None])\n",
    "    }))"
   ]
  },
  {
   "cell_type": "code",
   "execution_count": null,
   "id": "5dd710b7",
   "metadata": {},
   "outputs": [],
   "source": [
    "mrms_data_r = xr.concat(mrms_data_r, \"time\")\n",
    "mrms_data_r.to_netcdf(\"/gdata1/simon/gprof_nn/case_studies/fort_lauderdale/mrms.nc\")"
   ]
  },
  {
   "cell_type": "code",
   "execution_count": null,
   "id": "adcad49f",
   "metadata": {},
   "outputs": [],
   "source": [
    "mrms_data_r = xr.load_dataset(\"/gdata1/simon/gprof_nn/case_studies/fort_lauderdale/mrms.nc\")"
   ]
  },
  {
   "cell_type": "markdown",
   "id": "c27fae5b",
   "metadata": {},
   "source": [
    "# Plot overpasses"
   ]
  },
  {
   "cell_type": "code",
   "execution_count": null,
   "id": "53b5d7c5",
   "metadata": {},
   "outputs": [],
   "source": [
    "from matplotlib.gridspec import GridSpec\n",
    "from matplotlib.colors import LogNorm\n",
    "import matplotlib as mpl\n",
    "\n",
    "def plot_overpass(\n",
    "    time,\n",
    "    satellite_name,\n",
    "    mrms_data,\n",
    "    gprof_data,\n",
    "    gprof_nn_1d_data,\n",
    "    prof_nn_3d_data,\n",
    "    slices=None\n",
    "):\n",
    "    fig = plt.figure(figsize=(9, 8))\n",
    "    gs = GridSpec(2, 3, width_ratios=[1.0, 1.0, 0.075], wspace=0.05, hspace=0.1)\n",
    "    crs = area.to_cartopy_crs()\n",
    "    norm = LogNorm(1e-1, 1e2)\n",
    "    \n",
    "    if slices is None:\n",
    "        slices = (slice(0, None), slice(0, None))\n",
    "    \n",
    "    levels = np.logspace(-1, 2, 13)\n",
    "    \n",
    "    area_r = area[slices[0], slices[1]]\n",
    "    ext = area_r.area_extent\n",
    "    ext = (ext[0], ext[2], ext[1], ext[3])\n",
    "    cmap = mpl.colormaps.get_cmap(\"magma\")\n",
    "    \n",
    "    ax = fig.add_subplot(gs[0, 0], projection=crs)\n",
    "    sp = np.maximum(mrms_data.surface_precip.data, 1e-2)[slices[0], slices[1]]\n",
    "    \n",
    "    cs = ax.contourf(sp[::-1], extent=ext, cmap=cmap, norm=norm, levels=levels, extend=\"both\")\n",
    "    for c in cs.collections:\n",
    "        c.set_rasterized(True)\n",
    "    ax.scatter([lon_ftl], [lat_ftl], marker=\"x\", s=50, c=\"aqua\")\n",
    "    ax.coastlines(color=\"grey\")\n",
    "    ax.set_title(\"(a) MRMS\", loc=\"left\")\n",
    "    scale_bar(ax, 100e3, textcolor=\"grey\", parts=5, border_color=\"grey\")\n",
    "    \n",
    "    mask = gprof_nn_1d_data.surface_precip.data[slices[0], slices[1]] >= 0.0\n",
    "    \n",
    "    ax = fig.add_subplot(gs[0, 1], projection=crs)\n",
    "    sp = np.maximum(gprof_data.surface_precip.data, 1e-2)[slices[0], slices[1]]\n",
    "    sp[~mask] = np.nan\n",
    "    \n",
    "    cs = ax.contourf(sp[::-1], extent=ext, cmap=cmap, norm=norm, levels=levels, extend=\"both\")\n",
    "    for c in cs.collections:\n",
    "        c.set_rasterized(True)\n",
    "    ax.scatter([lon_ftl], [lat_ftl], marker=\"x\", s=50, c=\"aqua\")\n",
    "    ax.coastlines(color=\"grey\")\n",
    "    ax.set_title(\"(b) GPROF\", loc=\"left\")\n",
    "    scale_bar(ax, 100e3, textcolor=\"grey\", parts=5, border_color=\"grey\")\n",
    "    \n",
    "    if not np.any(np.isfinite(sp)):\n",
    "        return None\n",
    "    \n",
    "    ax = fig.add_subplot(gs[1, 0], projection=crs)\n",
    "    sp = np.maximum(gprof_nn_1d_data.surface_precip.data, 1e-2)[slices[0], slices[1]]\n",
    "    cs = ax.contourf(sp[::-1], extent=ext, cmap=cmap, norm=norm, levels=levels, extend=\"both\")\n",
    "    for c in cs.collections:\n",
    "        c.set_rasterized(True)\n",
    "    ax.scatter([lon_ftl], [lat_ftl], marker=\"x\", s=50, c=\"aqua\")\n",
    "    ax.coastlines(color=\"grey\")\n",
    "    ax.set_title(\"(c) GPROF-NN 1D\", loc=\"left\")\n",
    "    scale_bar(ax, 100e3, textcolor=\"grey\", parts=5, border_color=\"grey\")\n",
    "    \n",
    "    ax = fig.add_subplot(gs[1, 1], projection=crs)\n",
    "    sp = np.maximum(gprof_nn_3d_data.surface_precip.data, 1e-2)[slices[0], slices[1]]\n",
    "    sp[~mask] = np.nan\n",
    "    m = ax.contourf(sp[::-1], extent=ext, cmap=cmap, norm=norm, levels=levels, extend=\"both\")\n",
    "    for c in m.collections:\n",
    "        c.set_rasterized(True)\n",
    "    ax.scatter([lon_ftl], [lat_ftl], marker=\"x\", s=50, c=\"aqua\")\n",
    "    ax.coastlines(color=\"grey\")\n",
    "    ax.set_title(\"(d) GPROF-NN 3D\", loc=\"left\")\n",
    "    scale_bar(ax, 100e3, textcolor=\"grey\", parts=5, border_color=\"grey\")\n",
    "    \n",
    "    ax = fig.add_subplot(gs[:, -1])\n",
    "    plt.colorbar(m, label=\"Surface precipitation [mm h$^{-1}$]\", cax=ax)\n",
    "    \n",
    "    fig.suptitle(f\"{satellite_name}, {time.astype('datetime64[s]')}\", fontweight=\"bold\")\n",
    "    return fig\n",
    "    "
   ]
  },
  {
   "cell_type": "code",
   "execution_count": null,
   "id": "ed91d615",
   "metadata": {
    "scrolled": false
   },
   "outputs": [],
   "source": [
    "from pansat.time import to_datetime\n",
    "\n",
    "sensor_names = {\n",
    "    \"noaa19\": \"MHS (NOAA19)\",\n",
    "    \"noaa20\": \"ATMS (NOAA19)\",\n",
    "    \"metopb\": \"MHS (METOPA)\",\n",
    "    \"metopc\": \"MHS (METOPB)\",\n",
    "    \"f16\": \"SSMIS (F16)\",\n",
    "    \"f17\": \"SSMIS (F17)\",\n",
    "    \"f18\": \"SSMIS (F18)\",\n",
    "    \"npp\": \"ATMS (NPP)\",\n",
    "    \"gcomw1\": \"AMSR2 (GCOM-W1)\",\n",
    "    \"gmi\": \"GMI\",\n",
    "}\n",
    "for sat in satellites:\n",
    "    if sat not in results_gprof:\n",
    "        continue\n",
    "    n_times = results_gprof[sat].time.size\n",
    "    for ind, time in enumerate(results_gprof[sat].time.data):\n",
    "        if (time > mrms_data_r.time[0]) and (time < mrms_data_r.time[-1]):\n",
    "            mrms_data_t = mrms_data_r.interp(time=time)\n",
    "            gprof_data = results_gprof[sat][{\"time\": ind}]\n",
    "            gprof_nn_1d_data = results_gprof_nn_1d[sat].interp(time=time, method=\"nearest\")\n",
    "            gprof_nn_3d_data = results_gprof_nn_3d[sat].interp(time=time, method=\"nearest\")\n",
    "            fig = plot_overpass(time, sensor_names[sat], mrms_data_t, gprof_data, gprof_nn_1d_data, gprof_nn_3d_data, slices=(slice(100, -100), slice(100, -100)))\n",
    "            if fig is None:\n",
    "                continue\n",
    "            pytime = to_datetime(time)\n",
    "            timestr = pytime.strftime(\"%Y%m%d%H%M%S\")\n",
    "            fig.savefig(\n",
    "                f\"/gdata1/simon/gprof_nn/case_studies/fort_lauderdale/results/{timestr}_{sat}.pdf\",\n",
    "                bbox_inches=\"tight\"\n",
    "            )\n",
    "            del fig"
   ]
  },
  {
   "cell_type": "markdown",
   "id": "643f003f",
   "metadata": {},
   "source": [
    "# GPROF-NN HR profiles\n",
    "\n",
    "Creates a 3D model of the GPROF-NN HR retrieval results."
   ]
  },
  {
   "cell_type": "code",
   "execution_count": null,
   "id": "55e47460",
   "metadata": {},
   "outputs": [],
   "source": [
    "from PIL import Image\n",
    "Image.MAX_IMAGE_PIXELS = None\n",
    "img = np.array(Image.open(\"/home/simon/images/world.topo.bathy.200404.3x21600x10800.jpg\"))"
   ]
  },
  {
   "cell_type": "code",
   "execution_count": null,
   "id": "d9315c3d",
   "metadata": {},
   "outputs": [],
   "source": [
    "from pyresample import create_area_def\n",
    "from pyresample.kd_tree import resample_nearest\n",
    "\n",
    "bm_area = create_area_def(\n",
    "    \"bm\",\n",
    "    {'proj': 'longlat', 'datum': 'WGS84'},\n",
    "    shape=img.shape[:-1],\n",
    "    area_extent=(-180, -90, 180, 90)\n",
    ")\n",
    "img_r = resample_nearest(\n",
    "    bm_area,\n",
    "    img,\n",
    "    area,\n",
    "    radius_of_influence=5e3\n",
    ")"
   ]
  },
  {
   "cell_type": "code",
   "execution_count": null,
   "id": "5091cf37",
   "metadata": {},
   "outputs": [],
   "source": [
    "import pyvista as pv\n",
    "from gprof_nn.plotting import add_surface, add_hydrometeors, add_swath_edges\n",
    "pv.set_jupyter_backend(\"pythreejs\")\n",
    "scene = pv.Plotter()\n",
    "add_surface(scene, area, img_r)\n",
    "filename = \"/gdata1/simon/gprof_nn/case_studies/fort_lauderdale/gprof_nn_hr.nc\"\n",
    "rwc_r, swc_r = add_hydrometeors(scene, area, filename, opacity=0.5)"
   ]
  },
  {
   "cell_type": "code",
   "execution_count": null,
   "id": "96194a18",
   "metadata": {},
   "outputs": [],
   "source": [
    "scene.export_vtkjs(\"/gdata1/simon/gprof_nn/case_studies/fort_lauderdale/gprof_nn_hr\")"
   ]
  },
  {
   "cell_type": "markdown",
   "id": "179a53c9",
   "metadata": {},
   "source": [
    "# GPROF GMI precipitation"
   ]
  },
  {
   "cell_type": "code",
   "execution_count": null,
   "id": "d784aa26",
   "metadata": {},
   "outputs": [],
   "source": [
    "hr_filename = \"/gdata1/simon/gprof_nn/case_studies/fort_lauderdale/gprof_nn_hr.nc\"\n",
    "results_hr = resample_results(xr.load_dataset(hr_filename))\n",
    "time = results_hr.time[0].data\n",
    "mrms_data = mrms_data_r.interp(time=time)\n",
    "gprof_data = results_gprof[\"gmi\"][{\"time\": 0}]\n",
    "gprof_nn_1d_data = results_gprof_nn_1d[\"gmi\"][{\"time\": 0}]\n",
    "gprof_nn_3d_data = results_gprof_nn_3d[\"gmi\"][{\"time\": 0}]\n",
    "gprof_nn_hr_data = results_hr[{\"time\": 0}]"
   ]
  },
  {
   "cell_type": "code",
   "execution_count": null,
   "id": "ce384225",
   "metadata": {},
   "outputs": [],
   "source": [
    "from gprof_nn.plotting import scale_bar\n",
    "from matplotlib.gridspec import GridSpec\n",
    "from matplotlib.colors import Normalize\n",
    "import matplotlib as mpl\n",
    "\n",
    "fig = plt.figure(figsize=(12, 8))\n",
    "gs = GridSpec(2, 4, width_ratios=[1.0, 1.0, 1.0, 0.075], wspace=0.05, hspace=0.1)\n",
    "crs = area.to_cartopy_crs()\n",
    "norm = Normalize(0, 50)\n",
    "\n",
    "slices = (slice(150, -150), slice(150, -150))\n",
    "if slices is None:\n",
    "    slices = (slice(0, None), slice(0, None))\n",
    "\n",
    "levels = np.linspace(0, 50, 11)\n",
    "\n",
    "area_r = area[slices[0], slices[1]]\n",
    "ext = area_r.area_extent\n",
    "ext = (ext[0], ext[2], ext[1], ext[3])\n",
    "cmap = mpl.colormaps.get_cmap(\"magma\")\n",
    "\n",
    "ax = fig.add_subplot(gs[0, 0], projection=crs)\n",
    "sp = np.maximum(mrms_data.surface_precip.data, 1e-2)[slices[0], slices[1]]\n",
    "\n",
    "cs = ax.contourf(sp[::-1], extent=ext, cmap=cmap, norm=norm, levels=levels, extend=\"both\")\n",
    "for c in cs.collections:\n",
    "    c.set_rasterized(True)\n",
    "handles = ax.scatter([lon_ftl], [lat_ftl], marker=\"x\", s=50, c=\"aqua\", label=\"Fort Lauderdale\")\n",
    "ax.coastlines(color=\"grey\")\n",
    "ax.set_title(\"(a) MRMS\", loc=\"left\")\n",
    "scale_bar(ax, 50e3, textcolor=\"w\", parts=5, border_color=\"w\")\n",
    "\n",
    "mask = gprof_nn_1d_data.surface_precip.data[slices[0], slices[1]] >= 0.0\n",
    "\n",
    "ax = fig.add_subplot(gs[0, 1], projection=crs)\n",
    "sp = np.maximum(gprof_data.surface_precip.data, 1e-2)[slices[0], slices[1]]\n",
    "print(sp.mean())\n",
    "sp[~mask] = np.nan\n",
    "\n",
    "cs = ax.contourf(sp[::-1], extent=ext, cmap=cmap, norm=norm, levels=levels, extend=\"both\")\n",
    "for c in cs.collections:\n",
    "    c.set_rasterized(True)\n",
    "ax.scatter([lon_ftl], [lat_ftl], marker=\"x\", s=50, c=\"aqua\")\n",
    "ax.coastlines(color=\"grey\")\n",
    "ax.set_title(\"(b) GPROF\", loc=\"left\")\n",
    "scale_bar(ax, 50e3, textcolor=\"w\", parts=5, border_color=\"w\")\n",
    "\n",
    "ax = fig.add_subplot(gs[0, 2], projection=crs)\n",
    "sp = np.maximum(gprof_nn_1d_data.surface_precip.data, 1e-2)[slices[0], slices[1]]\n",
    "print(sp.mean())\n",
    "cs = ax.contourf(sp[::-1], extent=ext, cmap=cmap, norm=norm, levels=levels, extend=\"both\")\n",
    "for c in cs.collections:\n",
    "    c.set_rasterized(True)\n",
    "ax.scatter([lon_ftl], [lat_ftl], marker=\"x\", s=50, c=\"aqua\")\n",
    "ax.coastlines(color=\"grey\")\n",
    "ax.set_title(\"(c) GPROF-NN 1D\", loc=\"left\")\n",
    "scale_bar(ax, 50e3, textcolor=\"w\", parts=5, border_color=\"w\")\n",
    "\n",
    "ax = fig.add_subplot(gs[1, 0], projection=crs)\n",
    "sp = np.maximum(gprof_nn_3d_data.surface_precip.data, 1e-2)[slices[0], slices[1]]\n",
    "print(sp.mean())\n",
    "sp[~mask] = np.nan\n",
    "m = ax.contourf(sp[::-1], extent=ext, cmap=cmap, norm=norm, levels=levels, extend=\"both\")\n",
    "for c in m.collections:\n",
    "    c.set_rasterized(True)\n",
    "ax.scatter([lon_ftl], [lat_ftl], marker=\"x\", s=50, c=\"aqua\")\n",
    "ax.coastlines(color=\"grey\")\n",
    "ax.set_title(\"(d) GPROF-NN 3D\", loc=\"left\")\n",
    "scale_bar(ax, 50e3, textcolor=\"w\", parts=5, border_color=\"w\")\n",
    "\n",
    "ax = fig.add_subplot(gs[1, 1], projection=crs)\n",
    "sp = np.maximum(gprof_nn_hr_data.surface_precip.data, 1e-2)[slices[0], slices[1]]\n",
    "print(sp.mean())\n",
    "sp[~mask] = np.nan\n",
    "m = ax.contourf(sp[::-1], extent=ext, cmap=cmap, norm=norm, levels=levels, extend=\"both\")\n",
    "for c in m.collections:\n",
    "    c.set_rasterized(True)\n",
    "ax.scatter([lon_ftl], [lat_ftl], marker=\"x\", s=50, c=\"aqua\")\n",
    "ax.coastlines(color=\"grey\")\n",
    "ax.set_title(\"(e) GPROF-NN HR\", loc=\"left\")\n",
    "scale_bar(ax, 50e3, textcolor=\"w\", parts=5, border_color=\"w\")\n",
    "\n",
    "ax = fig.add_subplot(gs[1, 2])\n",
    "ax.set_axis_off()\n",
    "ax.legend(handles=[handles], loc=\"center\")\n",
    "\n",
    "ax = fig.add_subplot(gs[:, -1])\n",
    "plt.colorbar(m, label=\"Surface precipitation [mm h$^{-1}$]\", cax=ax)\n",
    "\n",
    "fig.suptitle(f\"GMI, {time.astype('datetime64[s]')}\", fontweight=\"bold\")\n",
    "fig.savefig(\"gmi_overpass.png\", bbox_inches=\"tight\")\n"
   ]
  },
  {
   "cell_type": "markdown",
   "id": "29c57051",
   "metadata": {},
   "source": [
    "### L1C Data"
   ]
  },
  {
   "cell_type": "code",
   "execution_count": null,
   "id": "0afce7f2",
   "metadata": {},
   "outputs": [],
   "source": [
    "from pansat.products.satellite.gpm import l1c_gpm_gmi_r\n",
    "l1c_data = l1c_gpm_gmi_r.open(\"/pdata4/archive/GPM/1CR_GMI_V7/2304/230412/1C-R.GPM.GMI.XCAL2016-C.20230412-S185045-E202315.051822.V07A.HDF5\")"
   ]
  },
  {
   "cell_type": "code",
   "execution_count": null,
   "id": "9d40c640",
   "metadata": {},
   "outputs": [],
   "source": [
    "fig = plt.figure(figsize=(9, 4))\n",
    "gs = GridSpec(1, 3, width_ratios=[1.0, 1.0, 0.075])\n",
    "\n",
    "area_s = area[150:-150, 150:-150]\n",
    "ext = area_s.area_extent\n",
    "ext = (ext[0], ext[2], ext[1], ext[3])\n",
    "\n",
    "norm = Normalize(100, 300)\n",
    "ax = fig.add_subplot(gs[0, 0], projection=crs)\n",
    "ax.imshow(tbs_r[150:-150, 150:-150, -2], norm=norm, extent=ext, cmap=\"coolwarm\", rasterized=True)\n",
    "ax.scatter([lon_ftl], [lat_ftl], marker=\"x\", s=50, c=\"aqua\")\n",
    "ax.coastlines(color=\"grey\")\n",
    "ax.set_title(\"187 +/- 3 GHz\")\n",
    "\n",
    "ax = fig.add_subplot(gs[0, 1], projection=crs)\n",
    "m = ax.imshow(tbs_r[150:-150, 150:-150, -1], norm=norm, extent=ext, cmap=\"coolwarm\", rasterized=True)\n",
    "ax.scatter([lon_ftl], [lat_ftl], marker=\"x\", s=50, c=\"aqua\")\n",
    "ax.coastlines(color=\"grey\")\n",
    "ax.set_title(\"187 +/- 7 GHz\")\n",
    "\n",
    "ax = fig.add_subplot(gs[0, -1])\n",
    "plt.colorbar(m, cax=ax, label=\"T$_B$ [K]\")\n",
    "fig.savefig(\"tbs.png\", bbox_inches=\"tight\")"
   ]
  }
 ],
 "metadata": {
  "kernelspec": {
   "display_name": "Python 3 (ipykernel)",
   "language": "python",
   "name": "python3"
  },
  "language_info": {
   "codemirror_mode": {
    "name": "ipython",
    "version": 3
   },
   "file_extension": ".py",
   "mimetype": "text/x-python",
   "name": "python",
   "nbconvert_exporter": "python",
   "pygments_lexer": "ipython3",
   "version": "3.10.10"
  }
 },
 "nbformat": 4,
 "nbformat_minor": 5
}
