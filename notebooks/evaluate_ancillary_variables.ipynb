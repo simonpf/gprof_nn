{
 "cells": [
  {
   "cell_type": "markdown",
   "id": "84288df7",
   "metadata": {},
   "source": [
    "# Impact of ancillary variables\n",
    "\n",
    "This notebook assesses the impact of different ancillary retrieval inputs.\n",
    "\n",
    "## Data\n",
    "\n",
    "The evaluation uses the same test dataset used to assess GPROF-NN against the original GPROF, i.e, collocations of GMI and GPM-CMB observations from days 1, 2, 3 of every month from the water year 2019."
   ]
  },
  {
   "cell_type": "code",
   "execution_count": null,
   "id": "05fc57d2",
   "metadata": {},
   "outputs": [],
   "source": [
    "%matplotlib inline\n",
    "import matplotlib.pyplot as plt\n",
    "import numpy as np\n",
    "import xarray as xr\n",
    "from gprof_nn.plotting import set_style\n",
    "set_style(latex=False)"
   ]
  },
  {
   "cell_type": "code",
   "execution_count": null,
   "id": "e3549832",
   "metadata": {},
   "outputs": [],
   "source": [
    "# Configure plotting\n",
    "import seaborn as sns\n",
    "from gprof_nn.plotting import set_style\n",
    "sns.reset_orig()\n",
    "set_style(latex=False)"
   ]
  },
  {
   "cell_type": "code",
   "execution_count": null,
   "id": "73dbef5c",
   "metadata": {},
   "outputs": [],
   "source": [
    "from pathlib import Path\n",
    "from gprof_nn.data.training_data import decompress_and_load\n",
    "\n",
    "def load_results(path, variables):\n",
    "    \"\"\"\n",
    "    Load retrieval results from directory.\n",
    "    \n",
    "    Args:\n",
    "        path: The directory from which to load the results.\n",
    "        variables: The variables to load from the results files.\n",
    "    \n",
    "    Return:\n",
    "        An xarray.Dataset containing all retrieval results found in the\n",
    "        given directory.\n",
    "    \"\"\"\n",
    "    files = list(Path(path).glob(\"*.nc\"))\n",
    "    files += list(Path(path).glob(\"*nc.gz\"))\n",
    "    datasets = []\n",
    "    for f in files:\n",
    "        vs = variables\n",
    "        data = decompress_and_load(f)\n",
    "        for v in variables:\n",
    "            if v + \"_true\" in data.variables:\n",
    "                vs.append(v + \"_true\")\n",
    "        datasets.append(data[vs])\n",
    "        data.close()\n",
    "        \n",
    "    results = xr.concat(datasets, dim=\"samples\")\n",
    "    \n",
    "    if \"pixels\" in results.dims:\n",
    "        results_flat = results.stack(samples_new = (\"samples\", \"scans\", \"pixels\"))\n",
    "        results = results_flat.rename_dims({\"samples_new\": \"samples\"})\n",
    "    return results\n",
    "    "
   ]
  },
  {
   "cell_type": "code",
   "execution_count": null,
   "id": "22514507",
   "metadata": {},
   "outputs": [],
   "source": [
    "variables = [\"surface_precip\", \"surface_type\"]\n",
    "# Results using new preprocessor and all ancillary variables\n",
    "results_all = load_results(\n",
    "    \"/gdata1/simon/gprof_nn/results/gmi_new/gprof_nn_1d/\",\n",
    "    variables\n",
    ")\n",
    "results_no_t2m = load_results(\n",
    "    \"/gdata1/simon/gprof_nn/results/gmi_dropped_15/\",\n",
    "    variables\n",
    ")\n",
    "results_3d = load_results(\n",
    "    \"/gdata1/simon/gprof_nn/results/gmi_new/gprof_nn_3d/\",\n",
    "    variables\n",
    ")"
   ]
  },
  {
   "cell_type": "code",
   "execution_count": null,
   "id": "debb4020",
   "metadata": {},
   "outputs": [],
   "source": [
    "import pandas as pd\n",
    "\n",
    "def calculate_error_statistics(data, configuration):\n",
    "    \"\"\"\n",
    "    Calculates surface precip errors statistics.\n",
    "    \n",
    "    Args:\n",
    "        data: An xarray.Dataset containing the retrieval results.\n",
    "        configuration: A string describing the configuration for which the\n",
    "            stats are calculated, which will be included in the resulting\n",
    "            dataframe.\n",
    "        \n",
    "    Return:\n",
    "        A pandas Dataframe containing the error statistics.\n",
    "    \"\"\"\n",
    "    \n",
    "    true = data.surface_precip_true.data\n",
    "    retrieved = data.surface_precip.data\n",
    "    \n",
    "    valid = (true >= -999) \n",
    "    true = true[valid]\n",
    "    retrieved = retrieved[valid]\n",
    "    \n",
    "    bias = (true - retrieved).mean()\n",
    "    mse = ((true - retrieved) ** 2).mean()\n",
    "    corr = np.corrcoef(true, retrieved)[0, 1]\n",
    "    \n",
    "    return pd.DataFrame({\n",
    "        \"Bias\": [bias],\n",
    "        \"MSE\": [mse],\n",
    "        \"Correlation\": [corr],\n",
    "        \"Configuration\": [configuration]\n",
    "    })\n",
    "    "
   ]
  },
  {
   "cell_type": "markdown",
   "id": "e69e3dd8",
   "metadata": {},
   "source": [
    "## All surfaces\n",
    "\n",
    "We start by assessing the accuracy for all samples in the test data."
   ]
  },
  {
   "cell_type": "code",
   "execution_count": null,
   "id": "3e805490",
   "metadata": {},
   "outputs": [],
   "source": [
    "stats_all = calculate_error_statistics(results_all, \"1D, All\")\n",
    "stats_no_tcwv = calculate_error_statistics(results_no_t2m, \"1D, No t2m\")\n",
    "stats_3d = calculate_error_statistics(results_3d, \"3D, All\")"
   ]
  },
  {
   "cell_type": "code",
   "execution_count": null,
   "id": "be176234",
   "metadata": {},
   "outputs": [],
   "source": [
    "stats = pd.concat([\n",
    "    stats_all,\n",
    "    stats_no_tcwv,\n",
    "    stats_3d\n",
    "])"
   ]
  },
  {
   "cell_type": "code",
   "execution_count": null,
   "id": "8d252018",
   "metadata": {},
   "outputs": [],
   "source": [
    "stats"
   ]
  },
  {
   "cell_type": "code",
   "execution_count": null,
   "id": "ac2e0870",
   "metadata": {},
   "outputs": [],
   "source": [
    "f = plt.figure(figsize=(18, 7))\n",
    "ax = f.add_subplot(1, 3, 1)\n",
    "sns.barplot(stats, x=\"Configuration\", y=\"Bias\", ax=ax)\n",
    "for l in ax.xaxis.get_ticklabels():\n",
    "    l.set_rotation(45)\n",
    "\n",
    "ax = f.add_subplot(1, 3, 2)\n",
    "sns.barplot(stats, x=\"Configuration\", y=\"MSE\", ax=ax)\n",
    "for l in ax.xaxis.get_ticklabels():\n",
    "    l.set_rotation(45)\n",
    "\n",
    "ax = f.add_subplot(1, 3, 3)\n",
    "sns.barplot(stats, x=\"Configuration\", y=\"Correlation\", ax=ax)\n",
    "for l in ax.xaxis.get_ticklabels():\n",
    "    l.set_rotation(45)\n",
    "    \n",
    "f.suptitle(\"Ocean (surface type 1)\", y=1.1)\n",
    "plt.tight_layout()\n",
    "f.savefig(\"metrics_all.png\", dpi=200, bbox_inches=\"tight\")"
   ]
  },
  {
   "cell_type": "markdown",
   "id": "9096f1f3",
   "metadata": {},
   "source": [
    "## Ocean surfaces\n",
    "\n",
    "Evaluation restricted to pixels with ``surface_type = 1``."
   ]
  },
  {
   "cell_type": "code",
   "execution_count": null,
   "id": "a4abbd25",
   "metadata": {},
   "outputs": [],
   "source": [
    "results_all_ocean = results_all[{\"samples\": results_all.surface_type.data == 1}]\n",
    "results_no_t2m_ocean = results_no_t2m[{\"samples\": results_no_t2m.surface_type.data == 1}]\n",
    "results_3d_ocean = results_3d[{\"samples\": results_3d.surface_type.data == 1}]"
   ]
  },
  {
   "cell_type": "code",
   "execution_count": null,
   "id": "3153db3c",
   "metadata": {},
   "outputs": [],
   "source": [
    "stats_all = calculate_error_statistics(results_all_ocean, \"1D, All\")\n",
    "stats_no_tcwv = calculate_error_statistics(results_no_t2m_ocean, \"1D, No t2m\")\n",
    "stats_3d = calculate_error_statistics(results_3d_ocean, \"3D, All\")"
   ]
  },
  {
   "cell_type": "code",
   "execution_count": null,
   "id": "7f48d092",
   "metadata": {},
   "outputs": [],
   "source": [
    "stats = pd.concat([\n",
    "    stats_all,\n",
    "    stats_no_tcwv,\n",
    "    stats_3d\n",
    "])"
   ]
  },
  {
   "cell_type": "code",
   "execution_count": null,
   "id": "754fd150",
   "metadata": {},
   "outputs": [],
   "source": [
    "f = plt.figure(figsize=(18, 7))\n",
    "ax = f.add_subplot(1, 3, 1)\n",
    "sns.barplot(stats, x=\"Configuration\", y=\"Bias\", ax=ax)\n",
    "for l in ax.xaxis.get_ticklabels():\n",
    "    l.set_rotation(45)\n",
    "\n",
    "ax = f.add_subplot(1, 3, 2)\n",
    "sns.barplot(stats, x=\"Configuration\", y=\"MSE\", ax=ax)\n",
    "for l in ax.xaxis.get_ticklabels():\n",
    "    l.set_rotation(45)\n",
    "\n",
    "ax = f.add_subplot(1, 3, 3)\n",
    "sns.barplot(stats, x=\"Configuration\", y=\"Correlation\", ax=ax)\n",
    "for l in ax.xaxis.get_ticklabels():\n",
    "    l.set_rotation(45)\n",
    "    \n",
    "f.suptitle(\"Ocean (surface type 1)\", y=1.1)\n",
    "plt.tight_layout()\n",
    "f.savefig(\"metrics_all.png\", dpi=200, bbox_inches=\"tight\")"
   ]
  }
 ],
 "metadata": {
  "kernelspec": {
   "display_name": "Python 3 (ipykernel)",
   "language": "python",
   "name": "python3"
  },
  "language_info": {
   "codemirror_mode": {
    "name": "ipython",
    "version": 3
   },
   "file_extension": ".py",
   "mimetype": "text/x-python",
   "name": "python",
   "nbconvert_exporter": "python",
   "pygments_lexer": "ipython3",
   "version": "3.8.13"
  }
 },
 "nbformat": 4,
 "nbformat_minor": 5
}
